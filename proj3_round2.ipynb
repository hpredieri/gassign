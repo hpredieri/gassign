{
 "metadata": {
  "name": "",
  "signature": "sha256:9e202368644c52f2ec3901d2e78f54ffa7de71e6073df5f834c541b0a7fee8a2"
 },
 "nbformat": 3,
 "nbformat_minor": 0,
 "worksheets": [
  {
   "cells": [
    {
     "cell_type": "code",
     "collapsed": false,
     "input": [
      "%pylab inline"
     ],
     "language": "python",
     "metadata": {},
     "outputs": [
      {
       "output_type": "stream",
       "stream": "stdout",
       "text": [
        "Populating the interactive namespace from numpy and matplotlib\n"
       ]
      }
     ],
     "prompt_number": 1
    },
    {
     "cell_type": "code",
     "collapsed": false,
     "input": [
      "import pandas as pd\n",
      "import numpy as np\n",
      "import seaborn as sns\n",
      "from datetime import datetime as dt\n",
      "from datetime import timedelta as td\n",
      "pd.set_option('display.max_columns', 100)\n",
      "pd.set_option('display.max_rows', 100)\n",
      "pd.set_option('display.width', 200)\n",
      "pd.options.display.mpl_style = 'default'"
     ],
     "language": "python",
     "metadata": {},
     "outputs": [],
     "prompt_number": 2
    },
    {
     "cell_type": "code",
     "collapsed": false,
     "input": [
      "cols = ['event_id', 'venue_id', 'event_txt', 'listings', 'avg', 'low', 'high', 'event_date','datetime']\n",
      "tick_data = 'C:\\Users\\owner\\gassign\\df_tix.csv'\n",
      "nba_data = pd.read_csv(tick_data)"
     ],
     "language": "python",
     "metadata": {},
     "outputs": [],
     "prompt_number": 3
    },
    {
     "cell_type": "code",
     "collapsed": false,
     "input": [
      "nba_data.head()"
     ],
     "language": "python",
     "metadata": {},
     "outputs": [
      {
       "html": [
        "<div style=\"max-height:1000px;max-width:1500px;overflow:auto;\">\n",
        "<table border=\"1\" class=\"dataframe\">\n",
        "  <thead>\n",
        "    <tr style=\"text-align: right;\">\n",
        "      <th></th>\n",
        "      <th>Unnamed: 0</th>\n",
        "      <th>venue_id</th>\n",
        "      <th>event_txt</th>\n",
        "      <th>avg</th>\n",
        "      <th>opp_ranking</th>\n",
        "      <th>home_ranking</th>\n",
        "      <th>delta_avg</th>\n",
        "      <th>ppg</th>\n",
        "      <th>opp_rpi</th>\n",
        "      <th>delta_rpi</th>\n",
        "      <th>home_pop</th>\n",
        "      <th>log_delta_avg</th>\n",
        "      <th>home_attend</th>\n",
        "      <th>beer_price</th>\n",
        "    </tr>\n",
        "  </thead>\n",
        "  <tbody>\n",
        "    <tr>\n",
        "      <th>0</th>\n",
        "      <td> 20859</td>\n",
        "      <td> 208</td>\n",
        "      <td> Pacers_Thunder</td>\n",
        "      <td> 84</td>\n",
        "      <td> 0</td>\n",
        "      <td> 0</td>\n",
        "      <td> 50</td>\n",
        "      <td> 96.5</td>\n",
        "      <td> 0.48</td>\n",
        "      <td> 0.037</td>\n",
        "      <td> 0.917</td>\n",
        "      <td> 3.912023</td>\n",
        "      <td> 1</td>\n",
        "      <td> 5</td>\n",
        "    </tr>\n",
        "    <tr>\n",
        "      <th>1</th>\n",
        "      <td> 21881</td>\n",
        "      <td> 208</td>\n",
        "      <td> Pacers_Thunder</td>\n",
        "      <td> 62</td>\n",
        "      <td> 0</td>\n",
        "      <td> 0</td>\n",
        "      <td> 50</td>\n",
        "      <td> 96.5</td>\n",
        "      <td> 0.48</td>\n",
        "      <td> 0.037</td>\n",
        "      <td> 0.917</td>\n",
        "      <td> 3.912023</td>\n",
        "      <td> 1</td>\n",
        "      <td> 5</td>\n",
        "    </tr>\n",
        "    <tr>\n",
        "      <th>2</th>\n",
        "      <td> 23000</td>\n",
        "      <td> 208</td>\n",
        "      <td> Pacers_Thunder</td>\n",
        "      <td> 74</td>\n",
        "      <td> 0</td>\n",
        "      <td> 0</td>\n",
        "      <td> 50</td>\n",
        "      <td> 96.5</td>\n",
        "      <td> 0.48</td>\n",
        "      <td> 0.037</td>\n",
        "      <td> 0.917</td>\n",
        "      <td> 3.912023</td>\n",
        "      <td> 1</td>\n",
        "      <td> 5</td>\n",
        "    </tr>\n",
        "    <tr>\n",
        "      <th>3</th>\n",
        "      <td> 24119</td>\n",
        "      <td> 208</td>\n",
        "      <td> Pacers_Thunder</td>\n",
        "      <td> 77</td>\n",
        "      <td> 0</td>\n",
        "      <td> 0</td>\n",
        "      <td> 50</td>\n",
        "      <td> 96.5</td>\n",
        "      <td> 0.48</td>\n",
        "      <td> 0.037</td>\n",
        "      <td> 0.917</td>\n",
        "      <td> 3.912023</td>\n",
        "      <td> 1</td>\n",
        "      <td> 5</td>\n",
        "    </tr>\n",
        "    <tr>\n",
        "      <th>4</th>\n",
        "      <td> 25223</td>\n",
        "      <td> 208</td>\n",
        "      <td> Pacers_Thunder</td>\n",
        "      <td> 52</td>\n",
        "      <td> 0</td>\n",
        "      <td> 0</td>\n",
        "      <td> 50</td>\n",
        "      <td> 96.5</td>\n",
        "      <td> 0.48</td>\n",
        "      <td> 0.037</td>\n",
        "      <td> 0.917</td>\n",
        "      <td> 3.912023</td>\n",
        "      <td> 1</td>\n",
        "      <td> 5</td>\n",
        "    </tr>\n",
        "  </tbody>\n",
        "</table>\n",
        "</div>"
       ],
       "metadata": {},
       "output_type": "pyout",
       "prompt_number": 4,
       "text": [
        "   Unnamed: 0  venue_id       event_txt  avg  opp_ranking  home_ranking  delta_avg   ppg  opp_rpi  delta_rpi  home_pop  log_delta_avg  home_attend  beer_price\n",
        "0       20859       208  Pacers_Thunder   84            0             0         50  96.5     0.48      0.037     0.917       3.912023            1           5\n",
        "1       21881       208  Pacers_Thunder   62            0             0         50  96.5     0.48      0.037     0.917       3.912023            1           5\n",
        "2       23000       208  Pacers_Thunder   74            0             0         50  96.5     0.48      0.037     0.917       3.912023            1           5\n",
        "3       24119       208  Pacers_Thunder   77            0             0         50  96.5     0.48      0.037     0.917       3.912023            1           5\n",
        "4       25223       208  Pacers_Thunder   52            0             0         50  96.5     0.48      0.037     0.917       3.912023            1           5"
       ]
      }
     ],
     "prompt_number": 4
    },
    {
     "cell_type": "code",
     "collapsed": false,
     "input": [
      "names = nba_data.columns.tolist()\n",
      "names[names.index('Unnamed: 0')] = 'event_id'\n",
      "nba_data.columns = names"
     ],
     "language": "python",
     "metadata": {},
     "outputs": [],
     "prompt_number": 5
    },
    {
     "cell_type": "code",
     "collapsed": false,
     "input": [
      "nba_data.head()"
     ],
     "language": "python",
     "metadata": {},
     "outputs": [
      {
       "html": [
        "<div style=\"max-height:1000px;max-width:1500px;overflow:auto;\">\n",
        "<table border=\"1\" class=\"dataframe\">\n",
        "  <thead>\n",
        "    <tr style=\"text-align: right;\">\n",
        "      <th></th>\n",
        "      <th>event_id</th>\n",
        "      <th>venue_id</th>\n",
        "      <th>event_txt</th>\n",
        "      <th>avg</th>\n",
        "      <th>opp_ranking</th>\n",
        "      <th>home_ranking</th>\n",
        "      <th>delta_avg</th>\n",
        "      <th>ppg</th>\n",
        "      <th>opp_rpi</th>\n",
        "      <th>delta_rpi</th>\n",
        "      <th>home_pop</th>\n",
        "      <th>log_delta_avg</th>\n",
        "      <th>home_attend</th>\n",
        "      <th>beer_price</th>\n",
        "    </tr>\n",
        "  </thead>\n",
        "  <tbody>\n",
        "    <tr>\n",
        "      <th>0</th>\n",
        "      <td> 20859</td>\n",
        "      <td> 208</td>\n",
        "      <td> Pacers_Thunder</td>\n",
        "      <td> 84</td>\n",
        "      <td> 0</td>\n",
        "      <td> 0</td>\n",
        "      <td> 50</td>\n",
        "      <td> 96.5</td>\n",
        "      <td> 0.48</td>\n",
        "      <td> 0.037</td>\n",
        "      <td> 0.917</td>\n",
        "      <td> 3.912023</td>\n",
        "      <td> 1</td>\n",
        "      <td> 5</td>\n",
        "    </tr>\n",
        "    <tr>\n",
        "      <th>1</th>\n",
        "      <td> 21881</td>\n",
        "      <td> 208</td>\n",
        "      <td> Pacers_Thunder</td>\n",
        "      <td> 62</td>\n",
        "      <td> 0</td>\n",
        "      <td> 0</td>\n",
        "      <td> 50</td>\n",
        "      <td> 96.5</td>\n",
        "      <td> 0.48</td>\n",
        "      <td> 0.037</td>\n",
        "      <td> 0.917</td>\n",
        "      <td> 3.912023</td>\n",
        "      <td> 1</td>\n",
        "      <td> 5</td>\n",
        "    </tr>\n",
        "    <tr>\n",
        "      <th>2</th>\n",
        "      <td> 23000</td>\n",
        "      <td> 208</td>\n",
        "      <td> Pacers_Thunder</td>\n",
        "      <td> 74</td>\n",
        "      <td> 0</td>\n",
        "      <td> 0</td>\n",
        "      <td> 50</td>\n",
        "      <td> 96.5</td>\n",
        "      <td> 0.48</td>\n",
        "      <td> 0.037</td>\n",
        "      <td> 0.917</td>\n",
        "      <td> 3.912023</td>\n",
        "      <td> 1</td>\n",
        "      <td> 5</td>\n",
        "    </tr>\n",
        "    <tr>\n",
        "      <th>3</th>\n",
        "      <td> 24119</td>\n",
        "      <td> 208</td>\n",
        "      <td> Pacers_Thunder</td>\n",
        "      <td> 77</td>\n",
        "      <td> 0</td>\n",
        "      <td> 0</td>\n",
        "      <td> 50</td>\n",
        "      <td> 96.5</td>\n",
        "      <td> 0.48</td>\n",
        "      <td> 0.037</td>\n",
        "      <td> 0.917</td>\n",
        "      <td> 3.912023</td>\n",
        "      <td> 1</td>\n",
        "      <td> 5</td>\n",
        "    </tr>\n",
        "    <tr>\n",
        "      <th>4</th>\n",
        "      <td> 25223</td>\n",
        "      <td> 208</td>\n",
        "      <td> Pacers_Thunder</td>\n",
        "      <td> 52</td>\n",
        "      <td> 0</td>\n",
        "      <td> 0</td>\n",
        "      <td> 50</td>\n",
        "      <td> 96.5</td>\n",
        "      <td> 0.48</td>\n",
        "      <td> 0.037</td>\n",
        "      <td> 0.917</td>\n",
        "      <td> 3.912023</td>\n",
        "      <td> 1</td>\n",
        "      <td> 5</td>\n",
        "    </tr>\n",
        "  </tbody>\n",
        "</table>\n",
        "</div>"
       ],
       "metadata": {},
       "output_type": "pyout",
       "prompt_number": 6,
       "text": [
        "   event_id  venue_id       event_txt  avg  opp_ranking  home_ranking  delta_avg   ppg  opp_rpi  delta_rpi  home_pop  log_delta_avg  home_attend  beer_price\n",
        "0     20859       208  Pacers_Thunder   84            0             0         50  96.5     0.48      0.037     0.917       3.912023            1           5\n",
        "1     21881       208  Pacers_Thunder   62            0             0         50  96.5     0.48      0.037     0.917       3.912023            1           5\n",
        "2     23000       208  Pacers_Thunder   74            0             0         50  96.5     0.48      0.037     0.917       3.912023            1           5\n",
        "3     24119       208  Pacers_Thunder   77            0             0         50  96.5     0.48      0.037     0.917       3.912023            1           5\n",
        "4     25223       208  Pacers_Thunder   52            0             0         50  96.5     0.48      0.037     0.917       3.912023            1           5"
       ]
      }
     ],
     "prompt_number": 6
    },
    {
     "cell_type": "code",
     "collapsed": false,
     "input": [
      "df_tix = nba_data.copy()"
     ],
     "language": "python",
     "metadata": {},
     "outputs": [],
     "prompt_number": 7
    },
    {
     "cell_type": "code",
     "collapsed": false,
     "input": [
      "del df_tix['event_id']\n",
      "del df_tix['venue_id']\n",
      "del df_tix['event_txt']"
     ],
     "language": "python",
     "metadata": {},
     "outputs": [],
     "prompt_number": 8
    },
    {
     "cell_type": "code",
     "collapsed": false,
     "input": [],
     "language": "python",
     "metadata": {},
     "outputs": [
      {
       "metadata": {},
       "output_type": "pyout",
       "prompt_number": 15,
       "text": [
        "count    8942.000000\n",
        "mean        0.927138\n",
        "std         0.096230\n",
        "min         0.681000\n",
        "25%         0.910000\n",
        "50%         0.943000\n",
        "75%         1.000000\n",
        "max         1.050000\n",
        "Name: home_attend, dtype: float64"
       ]
      }
     ],
     "prompt_number": 15
    },
    {
     "cell_type": "code",
     "collapsed": false,
     "input": [
      "names = df_tix.columns.tolist()\n",
      "names[names.index('delta_avg')] = 'target'\n",
      "df_tix.columns = names"
     ],
     "language": "python",
     "metadata": {},
     "outputs": [],
     "prompt_number": 9
    },
    {
     "cell_type": "code",
     "collapsed": false,
     "input": [
      "del df_tix['avg']\n",
      "del df_tix['log_delta_avg']"
     ],
     "language": "python",
     "metadata": {},
     "outputs": [],
     "prompt_number": 10
    },
    {
     "cell_type": "code",
     "collapsed": false,
     "input": [
      "df_tix.head()"
     ],
     "language": "python",
     "metadata": {},
     "outputs": [
      {
       "html": [
        "<div style=\"max-height:1000px;max-width:1500px;overflow:auto;\">\n",
        "<table border=\"1\" class=\"dataframe\">\n",
        "  <thead>\n",
        "    <tr style=\"text-align: right;\">\n",
        "      <th></th>\n",
        "      <th>opp_ranking</th>\n",
        "      <th>home_ranking</th>\n",
        "      <th>target</th>\n",
        "      <th>ppg</th>\n",
        "      <th>opp_rpi</th>\n",
        "      <th>delta_rpi</th>\n",
        "      <th>home_pop</th>\n",
        "      <th>home_attend</th>\n",
        "      <th>beer_price</th>\n",
        "    </tr>\n",
        "  </thead>\n",
        "  <tbody>\n",
        "    <tr>\n",
        "      <th>0</th>\n",
        "      <td> 0</td>\n",
        "      <td> 0</td>\n",
        "      <td> 50</td>\n",
        "      <td> 96.5</td>\n",
        "      <td> 0.48</td>\n",
        "      <td> 0.037</td>\n",
        "      <td> 0.917</td>\n",
        "      <td> 1</td>\n",
        "      <td> 5</td>\n",
        "    </tr>\n",
        "    <tr>\n",
        "      <th>1</th>\n",
        "      <td> 0</td>\n",
        "      <td> 0</td>\n",
        "      <td> 50</td>\n",
        "      <td> 96.5</td>\n",
        "      <td> 0.48</td>\n",
        "      <td> 0.037</td>\n",
        "      <td> 0.917</td>\n",
        "      <td> 1</td>\n",
        "      <td> 5</td>\n",
        "    </tr>\n",
        "    <tr>\n",
        "      <th>2</th>\n",
        "      <td> 0</td>\n",
        "      <td> 0</td>\n",
        "      <td> 50</td>\n",
        "      <td> 96.5</td>\n",
        "      <td> 0.48</td>\n",
        "      <td> 0.037</td>\n",
        "      <td> 0.917</td>\n",
        "      <td> 1</td>\n",
        "      <td> 5</td>\n",
        "    </tr>\n",
        "    <tr>\n",
        "      <th>3</th>\n",
        "      <td> 0</td>\n",
        "      <td> 0</td>\n",
        "      <td> 50</td>\n",
        "      <td> 96.5</td>\n",
        "      <td> 0.48</td>\n",
        "      <td> 0.037</td>\n",
        "      <td> 0.917</td>\n",
        "      <td> 1</td>\n",
        "      <td> 5</td>\n",
        "    </tr>\n",
        "    <tr>\n",
        "      <th>4</th>\n",
        "      <td> 0</td>\n",
        "      <td> 0</td>\n",
        "      <td> 50</td>\n",
        "      <td> 96.5</td>\n",
        "      <td> 0.48</td>\n",
        "      <td> 0.037</td>\n",
        "      <td> 0.917</td>\n",
        "      <td> 1</td>\n",
        "      <td> 5</td>\n",
        "    </tr>\n",
        "  </tbody>\n",
        "</table>\n",
        "</div>"
       ],
       "metadata": {},
       "output_type": "pyout",
       "prompt_number": 11,
       "text": [
        "   opp_ranking  home_ranking  target   ppg  opp_rpi  delta_rpi  home_pop  home_attend  beer_price\n",
        "0            0             0      50  96.5     0.48      0.037     0.917            1           5\n",
        "1            0             0      50  96.5     0.48      0.037     0.917            1           5\n",
        "2            0             0      50  96.5     0.48      0.037     0.917            1           5\n",
        "3            0             0      50  96.5     0.48      0.037     0.917            1           5\n",
        "4            0             0      50  96.5     0.48      0.037     0.917            1           5"
       ]
      }
     ],
     "prompt_number": 11
    },
    {
     "cell_type": "code",
     "collapsed": false,
     "input": [
      "x_cols = df_tix.columns.tolist()\n",
      "x_cols.remove('target')"
     ],
     "language": "python",
     "metadata": {},
     "outputs": [],
     "prompt_number": 13
    },
    {
     "cell_type": "code",
     "collapsed": false,
     "input": [
      "print x_cols"
     ],
     "language": "python",
     "metadata": {},
     "outputs": [
      {
       "output_type": "stream",
       "stream": "stdout",
       "text": [
        "['opp_ranking', 'home_ranking', 'ppg', 'opp_rpi', 'delta_rpi', 'home_pop', 'home_attend', 'beer_price']\n"
       ]
      }
     ],
     "prompt_number": 14
    },
    {
     "cell_type": "code",
     "collapsed": false,
     "input": [
      "y_col = 'target'"
     ],
     "language": "python",
     "metadata": {},
     "outputs": [],
     "prompt_number": 15
    },
    {
     "cell_type": "code",
     "collapsed": false,
     "input": [
      "from sklearn import linear_model as lm\n",
      "model = lm.LinearRegression().fit(df_tix[x_cols], df_tix[y_col])"
     ],
     "language": "python",
     "metadata": {},
     "outputs": [],
     "prompt_number": 16
    },
    {
     "cell_type": "code",
     "collapsed": false,
     "input": [
      "model"
     ],
     "language": "python",
     "metadata": {},
     "outputs": [
      {
       "metadata": {},
       "output_type": "pyout",
       "prompt_number": 17,
       "text": [
        "LinearRegression(copy_X=True, fit_intercept=True, normalize=False)"
       ]
      }
     ],
     "prompt_number": 17
    },
    {
     "cell_type": "code",
     "collapsed": false,
     "input": [
      "df_tix.target.describe()"
     ],
     "language": "python",
     "metadata": {},
     "outputs": [
      {
       "metadata": {},
       "output_type": "pyout",
       "prompt_number": 18,
       "text": [
        "count    8942.000000\n",
        "mean       84.031439\n",
        "std        78.808817\n",
        "min        10.260000\n",
        "25%        35.180000\n",
        "50%        63.150000\n",
        "75%       105.180000\n",
        "max       662.250000\n",
        "Name: target, dtype: float64"
       ]
      }
     ],
     "prompt_number": 18
    },
    {
     "cell_type": "code",
     "collapsed": false,
     "input": [
      "df_tix."
     ],
     "language": "python",
     "metadata": {},
     "outputs": []
    }
   ],
   "metadata": {}
  }
 ]
}